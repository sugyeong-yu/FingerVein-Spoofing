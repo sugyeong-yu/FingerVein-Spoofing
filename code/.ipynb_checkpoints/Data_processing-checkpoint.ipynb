{
 "cells": [
  {
   "cell_type": "code",
   "execution_count": 1,
   "metadata": {},
   "outputs": [],
   "source": [
    "import glob\n",
    "import os\n",
    "import cv2\n",
    "import numpy as np\n",
    "from scipy.fftpack import fft,fftfreq\n",
    "from scipy import signal\n",
    "import matplotlib.pyplot as plt"
   ]
  },
  {
   "cell_type": "code",
   "execution_count": 1,
   "metadata": {},
   "outputs": [
    {
     "ename": "NameError",
     "evalue": "name 'glob' is not defined",
     "output_type": "error",
     "traceback": [
      "\u001b[1;31m---------------------------------------------------------------------------\u001b[0m",
      "\u001b[1;31mNameError\u001b[0m                                 Traceback (most recent call last)",
      "\u001b[1;32m<ipython-input-1-733f81d92a9e>\u001b[0m in \u001b[0;36m<module>\u001b[1;34m\u001b[0m\n\u001b[0;32m      6\u001b[0m \u001b[1;33m\u001b[0m\u001b[0m\n\u001b[0;32m      7\u001b[0m \u001b[1;31m#경로지정\u001b[0m\u001b[1;33m\u001b[0m\u001b[1;33m\u001b[0m\u001b[1;33m\u001b[0m\u001b[0m\n\u001b[1;32m----> 8\u001b[1;33m \u001b[0mpaths\u001b[0m\u001b[1;33m=\u001b[0m\u001b[0mglob\u001b[0m\u001b[1;33m.\u001b[0m\u001b[0mglob\u001b[0m\u001b[1;33m(\u001b[0m\u001b[0mos\u001b[0m\u001b[1;33m.\u001b[0m\u001b[0mpath\u001b[0m\u001b[1;33m.\u001b[0m\u001b[0mjoin\u001b[0m\u001b[1;33m(\u001b[0m\u001b[0mdataPath\u001b[0m\u001b[1;33m,\u001b[0m\u001b[1;34m\"*/*/*.avi\"\u001b[0m\u001b[1;33m)\u001b[0m\u001b[1;33m)\u001b[0m\u001b[1;33m\u001b[0m\u001b[1;33m\u001b[0m\u001b[0m\n\u001b[0m\u001b[0;32m      9\u001b[0m \u001b[1;31m#print(len(paths)) #160\u001b[0m\u001b[1;33m\u001b[0m\u001b[1;33m\u001b[0m\u001b[1;33m\u001b[0m\u001b[0m\n\u001b[0;32m     10\u001b[0m \u001b[1;33m\u001b[0m\u001b[0m\n",
      "\u001b[1;31mNameError\u001b[0m: name 'glob' is not defined"
     ]
    }
   ],
   "source": [
    "dataPath = \"F:\\\\Finger_vein_Database\\\\abc\"\n",
    "savepath=\"D:\\\\study\"\n",
    "\n",
    "length=150\n",
    "overlap=50\n",
    "\n",
    "#경로지정\n",
    "paths=glob.glob(os.path.join(dataPath,\"*/*/*.avi\"))\n",
    "#print(len(paths)) #160\n",
    "\n",
    "# dict 선언\n",
    "trainDict={}\n",
    "testDict={}\n",
    "\n",
    "train_frequency=[]\n",
    "train_class=[]\n",
    "\n",
    "test_frequency=[]\n",
    "test_class=[]\n",
    "\n",
    "# 파일 하나씩 불러와서 처리\n",
    "# 1~10 까지  train\n",
    "# 11~20 까지 test\n",
    "for file_path in (paths):\n",
    "    file_num= int((file_path).split('\\\\')[-2]) # 실험자 번호\n",
    "    label= file_path.split('\\\\')[-3] # real or fake\n",
    "\n",
    "    cap=cv2.VideoCapture(file_path)\n",
    "    Frame_num=int(cap.get(cv2.CAP_PROP_FRAME_COUNT))# 총 얻음 frame수\n",
    "    Fp=int(cap.get(cv2.CAP_PROP_FPS))# 촬영한 카메라가 sr이 30\n",
    "\n",
    "    signals=[]\n",
    "\n",
    "    if label=='real':\n",
    "        val=1\n",
    "    else :\n",
    "        val=-1\n",
    "\n",
    "    while True:\n",
    "        ret,frame=cap.read()\n",
    "        if ret is False:\n",
    "            break\n",
    "\n",
    "        gray_img=cv2.cvtColor(frame,cv2.COLOR_BGR2GRAY)\n",
    "        signals.append(np.mean(gray_img))# 픽셀의 평균값 추가\n",
    "\n",
    "\n",
    "    for s in range(0,Frame_num+1):\n",
    "        cut_signal=signals[s:s+length]- np.mean(signals[s:s+length])\n",
    "        frequency=fft(cut_signal)/len(cut_signal)\n",
    "        frequency=2.0*np.abs(frequency[0:len(cut_signal)//2])\n",
    "#         xf=fftfreq(len(cut_signal),1/30)[0:len(cut_signal)//2] # fft샘플주파수포인트를 반환\n",
    "#         plt.plot(xf,frequency)\n",
    "#         plt.show()\n",
    "        \n",
    "#         f, chrom_spectrum = signal.periodogram(cut_signal, fs=30, window='hann')\n",
    "#         plt.plot(f,chrom_spectrum)\n",
    "#         plt.show()\n",
    "        if file_num<=10:\n",
    "            # train\n",
    "            train_frequency.append(frequency)\n",
    "            train_class.append(val)\n",
    "        else :\n",
    "            test_frequency.append(frequency)\n",
    "            test_class.append(val)\n",
    "        s += overlap\n",
    "        if s+length >Frame_num:\n",
    "            break\n",
    "\n",
    "trainDict['freq_signal']=np.array(train_frequency)\n",
    "trainDict['class']==np.array(train_class)\n",
    "testDict['freq_signal']==np.array(test_frequency)\n",
    "testDict['class']==np.array(test_class)"
   ]
  },
  {
   "cell_type": "code",
   "execution_count": 19,
   "metadata": {},
   "outputs": [
    {
     "name": "stdout",
     "output_type": "stream",
     "text": [
      "'train.p4' is created!!'\n",
      "'test.p4' is created!!'\n"
     ]
    }
   ],
   "source": [
    "import pickle\n",
    "with open(os.path.join(savepath, 'train.pickle'), mode='wb') as f:\n",
    "    pickle.dump(trainDict, f, protocol=4)\n",
    "    print('train.pickle' is created!!'\")\n",
    "    \n",
    "with open(os.path.join(savepath, 'test.pickle'), mode='wb') as f:\n",
    "    pickle.dump(testDict, f, protocol=4)\n",
    "    print('test.pickle' is created!!'\")"
   ]
  },
  {
   "cell_type": "code",
   "execution_count": null,
   "metadata": {},
   "outputs": [],
   "source": []
  }
 ],
 "metadata": {
  "kernelspec": {
   "display_name": "tensorflow",
   "language": "python",
   "name": "tensorflow"
  },
  "language_info": {
   "codemirror_mode": {
    "name": "ipython",
    "version": 3
   },
   "file_extension": ".py",
   "mimetype": "text/x-python",
   "name": "python",
   "nbconvert_exporter": "python",
   "pygments_lexer": "ipython3",
   "version": "3.7.10"
  }
 },
 "nbformat": 4,
 "nbformat_minor": 4
}
