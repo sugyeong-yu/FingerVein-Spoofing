{
 "cells": [
  {
   "cell_type": "code",
   "execution_count": 45,
   "metadata": {},
   "outputs": [
    {
     "name": "stdout",
     "output_type": "stream",
     "text": [
      "==========\n",
      "25.0\n",
      "==========\n",
      "==========\n",
      "(579, 750)\n",
      "(560, 750)\n",
      "==========\n"
     ]
    }
   ],
   "source": []
  },
  {
   "cell_type": "code",
   "execution_count": 62,
   "metadata": {},
   "outputs": [
    {
     "name": "stdout",
     "output_type": "stream",
     "text": [
      ">> train\n",
      "(579, 750)\n",
      "(579,)\n",
      "\n",
      ">> test\n",
      "(560, 750)\n",
      "(560,)\n"
     ]
    }
   ],
   "source": [
    "import os\n",
    "import pickle\n",
    "\n",
    "print('>> train')\n",
    "with open('C:\\\\Users\\\\ysk00\\\\fingervein\\\\pickle2\\\\train.p4', mode='rb') as f:\n",
    "    trainDict = pickle.load(f)\n",
    "\n",
    "train_X = trainDict['freqdomain']\n",
    "train_y = trainDict['label'].ravel()\n",
    "print(train_X.shape)\n",
    "print(train_y.shape)\n",
    "\n",
    "print()\n",
    "print('>> test')\n",
    "with open('C:\\\\Users\\\\ysk00\\\\fingervein\\\\pickle2\\\\test.p4', mode='rb') as f:\n",
    "    testDict = pickle.load(f)\n",
    "\n",
    "test_X = testDict['freqdomain']\n",
    "test_y = testDict['label'].ravel()\n",
    "print(test_X.shape)\n",
    "print(test_y.shape)"
   ]
  },
  {
   "cell_type": "code",
   "execution_count": 63,
   "metadata": {},
   "outputs": [
    {
     "name": "stdout",
     "output_type": "stream",
     "text": [
      "==========\n",
      "25.0\n",
      "==========\n",
      "==========\n",
      "(579, 750)\n",
      "(560, 750)\n",
      "==========\n"
     ]
    }
   ],
   "source": [
    "import numpy as np\n",
    "\n",
    "\n",
    "# band-pass 구간 설정\n",
    "#low = 0.7\n",
    "#high = 4.0\n",
    "\n",
    "N = 750 # 신호 길이\n",
    "fps = 30.0 # 프레임율\n",
    "T = N / fps # 구간 거리\n",
    "\n",
    "print('==========')\n",
    "print(T)\n",
    "print('==========')\n",
    "\n",
    "#print('low: ', int(low*T))\n",
    "#print('high: ', int(high*T))\n",
    "print('==========')\n",
    "\n",
    "## Set zeros less than 0.7Hz or greater than 4.0Hz\n",
    "# train_X1 = train_X[:,int((1.0)*T):int((3.0)*T)]     # first\n",
    "# test_X1 = test_X[:,int((1.0)*T):int((3.0)*T)]\n",
    "\n",
    "train_X = train_X[:,:]     # first\n",
    "test_X = test_X[:,:]\n",
    "\n",
    "# train_X2 = train_X[:,:int((3.0)*T)]     # second\n",
    "# test_X2 = test_X[:,:int((3.0)*T)]\n",
    "\n",
    "# train_X3 = train_X[:,int((0.8)*T):int((1.34)*T)]     #third\n",
    "# test_X3 = test_X[:,int((0.8)*T):int((1.34)*T)]\n",
    "\n",
    "# train_X2 = train_X[:,int(low*T):int(high*T)]\n",
    "# test_X2 = test_X[:,int(low*T):int(high*T)]\n",
    "\n",
    "# train_X2 = train_X\n",
    "# test_X2 = test_X\n",
    "\n",
    "# train_X2 = train_X[:,int(low*T):]\n",
    "# test_X2 = test_X[:,int(low*T):]\n",
    "\n",
    "# train_X3 = train_X[:,int((0.3)*T):int(high*T)]\n",
    "# test_X3 = test_X[:,int((0.3)*T):int(high*T)]\n",
    "\n",
    "print(train_X1.shape)\n",
    "print(test_X1.shape)\n",
    "print('==========')\n",
    "# print(train_X2.shape)\n",
    "# print(test_X2.shape)\n",
    "# print('==========')\n",
    "# print(train_X3.shape)\n",
    "# print(test_X3.shape)\n",
    "\n",
    "# test_X5 = test_X1[168:,:]\n",
    "\n",
    "\n",
    "#for i in range(171):\n",
    "#    print(i)\n",
    "#    print(test_X5[i])"
   ]
  },
  {
   "cell_type": "code",
   "execution_count": 64,
   "metadata": {},
   "outputs": [
    {
     "name": "stdout",
     "output_type": "stream",
     "text": [
      "(579, 750)\n",
      "(560, 750)\n"
     ]
    }
   ],
   "source": [
    "import numpy as np\n",
    "# from tensorflow.keras.utils import np_utils\n",
    "from tensorflow.keras.utils import to_categorical\n",
    "\n",
    "train_y = to_categorical(train_y)\n",
    "test_y = to_categorical(test_y)\n",
    "\n",
    "train_X = train_X / 255.0\n",
    "test_X = test_X / 255.0\n",
    "\n",
    "print(train_X.shape)\n",
    "print(test_X.shape)"
   ]
  },
  {
   "cell_type": "code",
   "execution_count": 65,
   "metadata": {},
   "outputs": [],
   "source": [
    "from tensorflow.keras import layers, models\n",
    "\n",
    "class DNN(models.Sequential):\n",
    "    def __init__(self, Nout):\n",
    "        super().__init__()\n",
    "\n",
    "        #self.add(layers.Dense(100, activation='relu', input_shape=(750,), name='Hidden-1'))\n",
    "        self.add(layers.Dense(50, activation='relu', name='Hidden-2'))\n",
    "        self.add(layers.Dense(Nout, activation='sigmoid'))\n",
    "        self.compile(loss='categorical_crossentropy', optimizer='adam', metrics=['accuracy'])\n"
   ]
  },
  {
   "cell_type": "code",
   "execution_count": null,
   "metadata": {},
   "outputs": [],
   "source": []
  },
  {
   "cell_type": "code",
   "execution_count": 75,
   "metadata": {},
   "outputs": [
    {
     "name": "stdout",
     "output_type": "stream",
     "text": [
      "Train on 28 samples, validate on 551 samples\n",
      "Epoch 1/10\n",
      "WARNING:tensorflow:Entity <function Function._initialize_uninitialized_variables.<locals>.initialize_variables at 0x0000020E57F571E0> could not be transformed and will be executed as-is. Please report this to the AutoGraph team. When filing the bug, set the verbosity to 10 (on Linux, `export AUTOGRAPH_VERBOSITY=10`) and attach the full output. Cause: module 'gast' has no attribute 'Num'\n",
      "WARNING: Entity <function Function._initialize_uninitialized_variables.<locals>.initialize_variables at 0x0000020E57F571E0> could not be transformed and will be executed as-is. Please report this to the AutoGraph team. When filing the bug, set the verbosity to 10 (on Linux, `export AUTOGRAPH_VERBOSITY=10`) and attach the full output. Cause: module 'gast' has no attribute 'Num'\n",
      "28/28 [==============================] - 2s 79ms/sample - loss: 0.6223 - accuracy: 1.0000 - val_loss: 0.4860 - val_accuracy: 1.0000\n",
      "Epoch 2/10\n",
      "28/28 [==============================] - 1s 47ms/sample - loss: 0.4545 - accuracy: 1.0000 - val_loss: 0.2905 - val_accuracy: 1.0000\n",
      "Epoch 3/10\n",
      "28/28 [==============================] - 1s 48ms/sample - loss: 0.2848 - accuracy: 1.0000 - val_loss: 0.1637 - val_accuracy: 1.0000\n",
      "Epoch 4/10\n",
      "28/28 [==============================] - 1s 50ms/sample - loss: 0.1611 - accuracy: 1.0000 - val_loss: 0.0978 - val_accuracy: 1.0000\n",
      "Epoch 5/10\n",
      "28/28 [==============================] - 1s 48ms/sample - loss: 0.0912 - accuracy: 1.0000 - val_loss: 0.0653 - val_accuracy: 1.0000\n",
      "Epoch 6/10\n",
      "28/28 [==============================] - 1s 47ms/sample - loss: 0.0559 - accuracy: 1.0000 - val_loss: 0.0474 - val_accuracy: 1.0000\n",
      "Epoch 7/10\n",
      "28/28 [==============================] - 1s 46ms/sample - loss: 0.0374 - accuracy: 1.0000 - val_loss: 0.0367 - val_accuracy: 1.0000\n",
      "Epoch 8/10\n",
      "28/28 [==============================] - 1s 47ms/sample - loss: 0.0266 - accuracy: 1.0000 - val_loss: 0.0300 - val_accuracy: 1.0000\n",
      "Epoch 9/10\n",
      "28/28 [==============================] - 1s 46ms/sample - loss: 0.0201 - accuracy: 1.0000 - val_loss: 0.0252 - val_accuracy: 1.0000\n",
      "Epoch 10/10\n",
      "28/28 [==============================] - 1s 47ms/sample - loss: 0.0157 - accuracy: 1.0000 - val_loss: 0.0217 - val_accuracy: 1.0000\n"
     ]
    },
    {
     "data": {
      "image/png": "[encoded data removed]",
      "text/plain": [
       "<Figure size 432x288 with 1 Axes>"
      ]
     },
     "metadata": {
      "needs_background": "light"
     },
     "output_type": "display_data"
    },
    {
     "data": {
      "image/png": "[encoded data removed]",
      "text/plain": [
       "<Figure size 432x288 with 1 Axes>"
      ]
     },
     "metadata": {
      "needs_background": "light"
     },
     "output_type": "display_data"
    }
   ],
   "source": [
    "import tensorflow as tf\n",
    "from ex2_1_ann_mnist_cl import plot_loss, plot_acc\n",
    "import matplotlib.pyplot as plt\n",
    "from tensorflow.keras.callbacks import ModelCheckpoint, EarlyStopping\n",
    "\n",
    "#def main():\n",
    "number_of_class = 2\n",
    "Nout = number_of_class\n",
    "\n",
    "model = (DNN(Nout))\n",
    "    \n",
    "#history = model.fit(train_X, train_y, epochs=50, batch_size=16, validation_split=0.01)\n",
    "\n",
    "my_callbacks = [\n",
    "    tf.keras.callbacks.EarlyStopping(patience=2),\n",
    "    tf.keras.callbacks.ModelCheckpoint(filepath='model.{epoch:02d}-{val_loss:.2f}.h5')\n",
    "]\n",
    "model.fit(train_X, train_y, epochs=10, callbacks=my_callbacks, batch_size = 1, validation_split=0.95)\n",
    "\n",
    "#     performance_test = model.evaluate(test_X, test_y, batch_size=1)\n",
    "#     print('Test Loss and Accuracy -> ', performance_test)\n",
    "    \n",
    "#     predict=model.evaluate(test_X, test_y, batch_size=10)\n",
    "#     PREDICTED_CLASSES = model.predict(test_X, batch_size=10, verbose=1)\n",
    "#     temp = sum(test_y == PREDICTED_CLASSES)\n",
    "#     temp/len(test_y)\n",
    "#     print(\"predict accuracy:\",temp/len(test_y))\n",
    "\n",
    "plot_acc(history)\n",
    "plt.show()\n",
    "plot_loss(history)\n",
    "plt.show()\n",
    "    \n",
    "    \n",
    "# if __name__ == '__main__':\n",
    "#     main()\n"
   ]
  },
  {
   "cell_type": "code",
   "execution_count": 73,
   "metadata": {},
   "outputs": [
    {
     "name": "stdout",
     "output_type": "stream",
     "text": [
      "\r",
      "560/1 [================================================================================================================================================================================================================================================================================================================================================================================================================================================================================================================================================================================================================================================================================================================================================================================================================================================================================================================================================================================================================================================================================================================================================================================================================================================================================================================================================================================================================================================================================================================================================================================================================================================================================================================================================================================================================================================================================================================================================================================================================================================================================================================================================================================================================================================================================================================================================================================================================================================================================================================================================================================================================================================================================================================================================================================================================================================================================================================================================================================================================================================================================================================================================================================================================================================================================================================================================================================================================================================================================================================================================================================================================================================================================================================================================================================================================================================================================================================================================================================================================================================================================================================================================================================================================================================================================================================================================================================================================================================================================================================================================================================================================================================================================================================================================================================================================================================================================================================================================================================================================================================================================================================================================================================================================================================================================================================================================================================================================================================================================================================================================================================================================================================================================================================================================================================================================================================================================================================================================================================================================================================================================================================================================================================================================================================================================================================================================================================================================================================================================================================================================================================================================================================================================================================================================================================================================================================================================================================================================================================================================================================================================================================================================================================================================================================================================================================================================================================================================================================================================================================================================================================================================================================================================================================================================================================================================================================================================================================================================================================================================================================================================================================================================================================================================================================================================================================================================================================================================================================================================================================================================================================================================================================================================================================================================================================================================================================================================================================================================================================================================================================================================================================================================================================================================================================================================================================================================================================================================================================================================================================================================================================================================================================================================================================================================================================================================================================================================================================================================================================================================================================================================================================================================================================================================================================================================================================================================================================================================================================================================================================================================================================================================================================================================================================================================================================================================================================================================================================================================================================================================================================================================================================================================================================================================================================================================================================================================================================================================================================================================================================================================================================================================================================================================================================================================================================================================================================================================================================================================================================================================================================================================================================================================================================================================================================================================================================================================================================================================================================================================================================================================================================================================================================================================================================================================================================================================================================================================================================================================================================================================================================================================================================================================================================================================================================================================================================================================================================================================================================================================================================================================================================================================================================================================================================================================================================================================================================================================================================================================================================================================================================================================================================================================================================================================================================================================================================================================================================================================================================================================================================================================================================================================================================================================================================================================================================================================================================================================================================================================================================================================================================================================================================================================================================================================================================================================================================================================================================================================================================================================================================================================================================================================================================================================================================================================================================================================================================================================================================================================================================================================================================================================================================================================================================================================================================================================================================================================================================================================================================================================================================================================================================================================================================================================================================================================================================================================================================================================================================================================================================================================================================================================================================================================================================================================================================================================================================================================================================================================================================================================================] - 1s 2ms/sample - loss: 0.0216 - accuracy: 1.0000\n"
     ]
    },
    {
     "name": "stdout",
     "output_type": "stream",
     "text": [
      "Test Loss and Accuracy ->  [0.04131548693238449, 1.0]\n"
     ]
    }
   ],
   "source": [
    "performance_test = model.evaluate(test_X, test_y, batch_size=1)\n",
    "print('Test Loss and Accuracy -> ', performance_test)\n"
   ]
  },
  {
   "cell_type": "code",
   "execution_count": null,
   "metadata": {},
   "outputs": [],
   "source": []
  }
 ],
 "metadata": {
  "kernelspec": {
   "display_name": "cuda",
   "language": "python",
   "name": "cuda"
  },
  "language_info": {
   "codemirror_mode": {
    "name": "ipython",
    "version": 3
   },
   "file_extension": ".py",
   "mimetype": "text/x-python",
   "name": "python",
   "nbconvert_exporter": "python",
   "pygments_lexer": "ipython3",
   "version": "3.6.10"
  }
 },
 "nbformat": 4,
 "nbformat_minor": 2
}
